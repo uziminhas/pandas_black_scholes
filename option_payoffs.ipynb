{
 "cells": [
  {
   "cell_type": "code",
   "execution_count": 5,
   "metadata": {},
   "outputs": [],
   "source": [
    "import pandas as pd\n",
    "import matplotlib.pyplot as plt\n",
    "import numpy as np\n",
    "plt.style.use('ggplot') # adjusts the style to emulate ggplot (a popular plotting package for R)\n",
    "plt.rcParams['xtick.labelsize'] = 14\n",
    "plt.rcParams['ytick.labelsize'] = 14\n",
    "plt.rcParams['figure.titlesize'] = 18\n",
    "plt.rcParams['figure.titleweight'] = 'medium'\n",
    "plt.rcParams['lines.linewidth'] = 1.5"
   ]
  },
  {
   "cell_type": "code",
   "execution_count": 6,
   "metadata": {},
   "outputs": [],
   "source": [
    "def long_call(S, K, Price):\n",
    "    # Long call payoff = max(Stock price - Strike price, 0)\n",
    "    # Only exercise if the current stock price is GREATER than the strike price\n",
    "    P = list(map(lambda x: max(x - K, 0) - Price, S))\n",
    "    return P"
   ]
  },
  {
   "cell_type": "code",
   "execution_count": 7,
   "metadata": {},
   "outputs": [],
   "source": [
    "def long_put(S, K, Price):\n",
    "    # Long put payoff = max(Strike price - Stock price, 0)\n",
    "    # Only exercise if the current stock price is LESS than the strike price\n",
    "    P = list(map(lambda x: max(K - x, 0) - Price, S))\n",
    "    return P"
   ]
  },
  {
   "cell_type": "code",
   "execution_count": 18,
   "metadata": {},
   "outputs": [],
   "source": [
    "def short_call(S, K, Price):\n",
    "    # Short call payoff is inverse of long call payoff\n",
    "    P = long_call(S, K, Price)\n",
    "    return [-1 * p for p in P]"
   ]
  },
  {
   "cell_type": "code",
   "execution_count": 23,
   "metadata": {},
   "outputs": [],
   "source": [
    "def short_put(S, K, Price):\n",
    "    # Short put payoff is inverse of long put payoff\n",
    "    P = long_put(S, K, Price)\n",
    "    return [-1 * p for p in P]"
   ]
  },
  {
   "cell_type": "code",
   "execution_count": 1,
   "metadata": {},
   "outputs": [],
   "source": [
    "def binary_call(S, K, Price):\n",
    "    # Binary call payoff is:\n",
    "    # Strike if Strike price > Stock price OR\n",
    "    # 0\n",
    "    P = list(map(lambda x: K - Price if x > K else 0 - Price, S))\n",
    "    return P"
   ]
  },
  {
   "cell_type": "code",
   "execution_count": 2,
   "metadata": {},
   "outputs": [],
   "source": [
    "def binary_put(S, K, Price):\n",
    "    # Binary put payoff is:\n",
    "    # Strike if Strike price < Stock price OR\n",
    "    # 0\n",
    "    P = list(map(lambda x: K - price if x < K else 0 - Price, S))\n",
    "    return P"
   ]
  },
  {
   "cell_type": "code",
   "execution_count": 4,
   "metadata": {},
   "outputs": [
    {
     "ename": "NameError",
     "evalue": "name 'plt' is not defined",
     "output_type": "error",
     "traceback": [
      "\u001b[0;31m---------------------------------------------------------------------------\u001b[0m",
      "\u001b[0;31mNameError\u001b[0m                                 Traceback (most recent call last)",
      "\u001b[0;32m<ipython-input-4-0aca6966d91c>\u001b[0m in \u001b[0;36m<module>\u001b[0;34m\u001b[0m\n\u001b[1;32m      1\u001b[0m \u001b[0mS\u001b[0m \u001b[0;34m=\u001b[0m \u001b[0;34m[\u001b[0m\u001b[0mt\u001b[0m\u001b[0;34m/\u001b[0m\u001b[0;36m5\u001b[0m \u001b[0;32mfor\u001b[0m \u001b[0mt\u001b[0m \u001b[0;32min\u001b[0m \u001b[0mrange\u001b[0m\u001b[0;34m(\u001b[0m\u001b[0;36m0\u001b[0m\u001b[0;34m,\u001b[0m\u001b[0;36m1000\u001b[0m\u001b[0;34m)\u001b[0m\u001b[0;34m]\u001b[0m\u001b[0;34m\u001b[0m\u001b[0m\n\u001b[1;32m      2\u001b[0m \u001b[0;34m\u001b[0m\u001b[0m\n\u001b[0;32m----> 3\u001b[0;31m \u001b[0mfig\u001b[0m\u001b[0;34m,\u001b[0m \u001b[0maxs\u001b[0m \u001b[0;34m=\u001b[0m \u001b[0mplt\u001b[0m\u001b[0;34m.\u001b[0m\u001b[0msubplots\u001b[0m\u001b[0;34m(\u001b[0m\u001b[0mnrows\u001b[0m\u001b[0;34m=\u001b[0m\u001b[0;36m2\u001b[0m\u001b[0;34m,\u001b[0m \u001b[0mncols\u001b[0m\u001b[0;34m=\u001b[0m\u001b[0;36m2\u001b[0m\u001b[0;34m,\u001b[0m \u001b[0msharex\u001b[0m\u001b[0;34m=\u001b[0m\u001b[0;32mTrue\u001b[0m\u001b[0;34m,\u001b[0m \u001b[0msharey\u001b[0m\u001b[0;34m=\u001b[0m\u001b[0;32mTrue\u001b[0m\u001b[0;34m,\u001b[0m \u001b[0mfigsize\u001b[0m\u001b[0;34m=\u001b[0m\u001b[0;34m(\u001b[0m\u001b[0;36m20\u001b[0m\u001b[0;34m,\u001b[0m\u001b[0;36m15\u001b[0m\u001b[0;34m)\u001b[0m\u001b[0;34m)\u001b[0m\u001b[0;34m\u001b[0m\u001b[0m\n\u001b[0m\u001b[1;32m      4\u001b[0m \u001b[0;34m\u001b[0m\u001b[0m\n\u001b[1;32m      5\u001b[0m \u001b[0mplt\u001b[0m\u001b[0;34m.\u001b[0m\u001b[0msubplot\u001b[0m\u001b[0;34m(\u001b[0m\u001b[0;36m221\u001b[0m\u001b[0;34m)\u001b[0m\u001b[0;34m\u001b[0m\u001b[0m\n",
      "\u001b[0;31mNameError\u001b[0m: name 'plt' is not defined"
     ]
    }
   ],
   "source": [
    "S = [t/5 for t in range(0,1000)]\n",
    "\n",
    "fig, axs = plt.subplots(nrows=2, ncols=2, sharex=True, sharey=True, figsize=(20,15))\n",
    "\n",
    "plt.subplot(221)\n",
    "long_c = long_call(S, 100, 10)\n",
    "long_p = long_put(S, 100, 10)\n",
    "plt.plot(S, long_c, 'b')\n",
    "plt.plot(S, long_p, 'r')\n",
    "plt.ylim(-20,100)\n",
    "plt.legend(['Long call','Long put'])\n",
    "plt.title('Long call / Long put payoff')\n",
    "\n",
    "plt.subplot(222)\n",
    "short_c = short_call(S, 100, 10)\n",
    "short_p = short_put(S, 100, 10)\n",
    "plt.plot(S, short_c, 'b')\n",
    "plt.plot(S, short_p, 'r')\n",
    "plt.ylim(-100,20)\n",
    "plt.legend(['Short call','Short put'])\n",
    "plt.title('Short call / Short put payoff')\n",
    "\n",
    "plt.subplot(223)\n",
    "bin_c = binary_call(S, 100, 10)\n",
    "bin_p = binary_put(S, 100, 10)\n",
    "plt.plot(S, bin_c, 'b')\n",
    "plt.plot(S, bin_p, 'r')\n",
    "plt.ylim(-100,20)\n",
    "plt.legend(['Binary call','Binary put'])\n",
    "plt.title('Binary call / put payoff')\n",
    "\n",
    "\n",
    "plt.show()\n"
   ]
  },
  {
   "cell_type": "code",
   "execution_count": null,
   "metadata": {},
   "outputs": [],
   "source": []
  }
 ],
 "metadata": {
  "kernelspec": {
   "display_name": "Python 3",
   "language": "python",
   "name": "python3"
  },
  "language_info": {
   "codemirror_mode": {
    "name": "ipython",
    "version": 3
   },
   "file_extension": ".py",
   "mimetype": "text/x-python",
   "name": "python",
   "nbconvert_exporter": "python",
   "pygments_lexer": "ipython3",
   "version": "3.6.4"
  }
 },
 "nbformat": 4,
 "nbformat_minor": 2
}
